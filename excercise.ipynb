{
 "cells": [
  {
   "cell_type": "code",
   "execution_count": 1,
   "id": "d764094b",
   "metadata": {},
   "outputs": [
    {
     "name": "stdout",
     "output_type": "stream",
     "text": [
      "[1 2 3]\n"
     ]
    }
   ],
   "source": [
    "import numpy as np\n",
    "arr1 = np.array([1,2,3])\n",
    "print(arr1)"
   ]
  },
  {
   "cell_type": "code",
   "execution_count": 2,
   "id": "535d7f22",
   "metadata": {},
   "outputs": [
    {
     "data": {
      "text/plain": [
       "3"
      ]
     },
     "execution_count": 2,
     "metadata": {},
     "output_type": "execute_result"
    }
   ],
   "source": [
    "arr1[2]"
   ]
  },
  {
   "cell_type": "code",
   "execution_count": 3,
   "id": "9e429b75",
   "metadata": {},
   "outputs": [
    {
     "data": {
      "text/plain": [
       "array([1, 2, 5])"
      ]
     },
     "execution_count": 3,
     "metadata": {},
     "output_type": "execute_result"
    }
   ],
   "source": [
    "arr1[2]=5\n",
    "arr1"
   ]
  },
  {
   "cell_type": "code",
   "execution_count": 4,
   "id": "99db4149",
   "metadata": {},
   "outputs": [
    {
     "name": "stdout",
     "output_type": "stream",
     "text": [
      "[[1 2 3]\n",
      " [4 5 6]]\n"
     ]
    }
   ],
   "source": [
    "arr2 = np.array([[1,2,3],[4,5,6]])\n",
    "print(arr2)"
   ]
  },
  {
   "cell_type": "code",
   "execution_count": 6,
   "id": "90f77c87",
   "metadata": {},
   "outputs": [
    {
     "name": "stdout",
     "output_type": "stream",
     "text": [
      "The shape is 2 rows and 3 columns: (2, 3)\n"
     ]
    }
   ],
   "source": [
    "print(\"The shape is 2 rows and 3 columns:\", arr2.shape)"
   ]
  },
  {
   "cell_type": "code",
   "execution_count": 7,
   "id": "080f38c0",
   "metadata": {},
   "outputs": [
    {
     "name": "stdout",
     "output_type": "stream",
     "text": [
      "3\n",
      "3\n",
      "3\n",
      "4\n"
     ]
    }
   ],
   "source": [
    "print(arr2[0][2])\n",
    "print(arr2[0,2])\n",
    "print(arr2[0,-1])\n",
    "print(arr2[-1,0])"
   ]
  },
  {
   "cell_type": "code",
   "execution_count": 8,
   "id": "a6d92632",
   "metadata": {},
   "outputs": [
    {
     "name": "stdout",
     "output_type": "stream",
     "text": [
      "['India' 'china' 'USA' 'Mexico']\n"
     ]
    }
   ],
   "source": [
    "arr3 = np.array(['India','china','USA','Mexico'])\n",
    "print(arr3)"
   ]
  },
  {
   "cell_type": "code",
   "execution_count": 10,
   "id": "4eca90cb",
   "metadata": {},
   "outputs": [
    {
     "name": "stdout",
     "output_type": "stream",
     "text": [
      "[ 0  2  4  6  8 10 12 14 16 18]\n"
     ]
    }
   ],
   "source": [
    "arr = np.arange(0,20,2)\n",
    "print(arr)"
   ]
  },
  {
   "cell_type": "code",
   "execution_count": 11,
   "id": "ad9d3365",
   "metadata": {},
   "outputs": [
    {
     "name": "stdout",
     "output_type": "stream",
     "text": [
      "[ 0.          0.52631579  1.05263158  1.57894737  2.10526316  2.63157895\n",
      "  3.15789474  3.68421053  4.21052632  4.73684211  5.26315789  5.78947368\n",
      "  6.31578947  6.84210526  7.36842105  7.89473684  8.42105263  8.94736842\n",
      "  9.47368421 10.        ]\n"
     ]
    }
   ],
   "source": [
    "arr = np.linspace(0,10,20)\n",
    "print(arr)"
   ]
  },
  {
   "cell_type": "code",
   "execution_count": 12,
   "id": "6228b6e0",
   "metadata": {},
   "outputs": [
    {
     "name": "stdout",
     "output_type": "stream",
     "text": [
      "[0.07983624 0.7981555  0.42236386 0.43108355 0.79397975 0.28915909\n",
      " 0.71906835 0.39481808 0.8764482  0.26563453]\n",
      "\n",
      "\n",
      "[[0.74718422 0.7951927  0.76723368 0.09233767]\n",
      " [0.70914598 0.03536911 0.67648421 0.86870353]\n",
      " [0.8222669  0.89949395 0.19067862 0.04611628]]\n"
     ]
    }
   ],
   "source": [
    "arr = np.random.rand(10)\n",
    "print(arr)\n",
    "print('\\n')\n",
    "arr = np.random.rand(3,4)\n",
    "print(arr)"
   ]
  },
  {
   "cell_type": "code",
   "execution_count": 13,
   "id": "9e1c643c",
   "metadata": {},
   "outputs": [
    {
     "name": "stdout",
     "output_type": "stream",
     "text": [
      "[[10 10 10 10 10 10]\n",
      " [10 10 10 10 10 10]\n",
      " [10 10 10 10 10 10]\n",
      " [10 10 10 10 10 10]]\n"
     ]
    }
   ],
   "source": [
    "print(np.full((4,6),10))"
   ]
  },
  {
   "cell_type": "code",
   "execution_count": 14,
   "id": "b51d1480",
   "metadata": {},
   "outputs": [
    {
     "name": "stdout",
     "output_type": "stream",
     "text": [
      "[0 0 0 1 1 1 2 2 2]\n"
     ]
    }
   ],
   "source": [
    "arr = [0,1,2]\n",
    "print(np.repeat(arr,3))"
   ]
  },
  {
   "cell_type": "code",
   "execution_count": 16,
   "id": "da4fc520",
   "metadata": {},
   "outputs": [
    {
     "name": "stdout",
     "output_type": "stream",
     "text": [
      "[0 1 2 0 1 2 0 1 2]\n"
     ]
    }
   ],
   "source": [
    "arr = [0,1,2]\n",
    "print(np.tile(arr,3))"
   ]
  },
  {
   "cell_type": "code",
   "execution_count": 17,
   "id": "2066ce0b",
   "metadata": {},
   "outputs": [
    {
     "name": "stdout",
     "output_type": "stream",
     "text": [
      "[[1. 0. 0.]\n",
      " [0. 1. 0.]\n",
      " [0. 0. 1.]]\n"
     ]
    }
   ],
   "source": [
    "identity_matrix = np.eye(3)\n",
    "print(identity_matrix)"
   ]
  },
  {
   "cell_type": "code",
   "execution_count": 18,
   "id": "f1a2860e",
   "metadata": {},
   "outputs": [
    {
     "name": "stdout",
     "output_type": "stream",
     "text": [
      "[[1. 0. 0.]\n",
      " [0. 1. 0.]\n",
      " [0. 0. 1.]]\n"
     ]
    }
   ],
   "source": [
    "identity_matrix = np.identity(3)\n",
    "print(identity_matrix)"
   ]
  },
  {
   "cell_type": "code",
   "execution_count": 19,
   "id": "b1a28773",
   "metadata": {},
   "outputs": [
    {
     "name": "stdout",
     "output_type": "stream",
     "text": [
      "[[0.4180819  0.8988013  0.86526809 0.84981448 0.52946441]\n",
      " [0.4184945  0.01025392 0.62566908 0.59800139 0.79216932]\n",
      " [0.85561835 0.38030713 0.86120616 0.92654565 0.44478632]\n",
      " [0.55271687 0.47201267 0.68707304 0.72722748 0.07288412]\n",
      " [0.52049433 0.55882971 0.48716724 0.79417256 0.34318653]]\n"
     ]
    }
   ],
   "source": [
    "arr = np.random.rand(5,5)\n",
    "print(arr)"
   ]
  },
  {
   "cell_type": "code",
   "execution_count": 20,
   "id": "32d02d4b",
   "metadata": {},
   "outputs": [
    {
     "name": "stdout",
     "output_type": "stream",
     "text": [
      "[2.76540595 2.32020472 3.5263836  3.89576156 2.1824907 ]\n"
     ]
    }
   ],
   "source": [
    "print(np.sum(arr,axis=0))"
   ]
  },
  {
   "cell_type": "code",
   "execution_count": 21,
   "id": "7cfd141b",
   "metadata": {},
   "outputs": [
    {
     "name": "stdout",
     "output_type": "stream",
     "text": [
      "[3.56143018 2.44458821 3.4684636  2.51191418 2.70385036]\n"
     ]
    }
   ],
   "source": [
    "print(np.sum(arr, axis=1))"
   ]
  },
  {
   "cell_type": "code",
   "execution_count": 22,
   "id": "5dfc1620",
   "metadata": {},
   "outputs": [
    {
     "name": "stdout",
     "output_type": "stream",
     "text": [
      "0.5876098613775733\n",
      "0.55882971170861\n",
      "0.23931754857267695\n",
      "0.05727288905483559\n"
     ]
    }
   ],
   "source": [
    "print(np.mean(arr))\n",
    "print(np.median(arr))\n",
    "print(np.std(arr))\n",
    "print(np.var(arr))"
   ]
  },
  {
   "cell_type": "code",
   "execution_count": 23,
   "id": "666fd83c",
   "metadata": {},
   "outputs": [
    {
     "name": "stdout",
     "output_type": "stream",
     "text": [
      "[[0.70217596 0.35059505 0.53200855 0.40189122 0.95780938]\n",
      " [0.90965926 0.97290876 0.35688631 0.84553529 0.59069232]\n",
      " [0.13608391 0.65719084 0.8216988  0.01323374 0.30654824]\n",
      " [0.67196979 0.8844034  0.50893513 0.99688796 0.75994561]\n",
      " [0.13041547 0.19418778 0.93261102 0.71655304 0.44713759]]\n"
     ]
    }
   ],
   "source": [
    "arr = np.random.rand(5,5)\n",
    "print(arr)"
   ]
  },
  {
   "cell_type": "code",
   "execution_count": 24,
   "id": "ed213bdf",
   "metadata": {},
   "outputs": [
    {
     "name": "stdout",
     "output_type": "stream",
     "text": [
      "[[0.35059505 0.40189122 0.53200855 0.70217596 0.95780938]\n",
      " [0.35688631 0.59069232 0.84553529 0.90965926 0.97290876]\n",
      " [0.01323374 0.13608391 0.30654824 0.65719084 0.8216988 ]\n",
      " [0.50893513 0.67196979 0.75994561 0.8844034  0.99688796]\n",
      " [0.13041547 0.19418778 0.44713759 0.71655304 0.93261102]]\n"
     ]
    }
   ],
   "source": [
    "print(np.sort(arr, axis=1))"
   ]
  },
  {
   "cell_type": "code",
   "execution_count": 25,
   "id": "d5a9d548",
   "metadata": {},
   "outputs": [],
   "source": [
    "arr = np.array([4,5,6,7])"
   ]
  },
  {
   "cell_type": "code",
   "execution_count": 26,
   "id": "bcdcef3d",
   "metadata": {},
   "outputs": [
    {
     "data": {
      "text/plain": [
       "array([4, 5, 6, 7, 8])"
      ]
     },
     "execution_count": 26,
     "metadata": {},
     "output_type": "execute_result"
    }
   ],
   "source": [
    "arr1 = np.append(arr,8)\n",
    "arr1"
   ]
  },
  {
   "cell_type": "code",
   "execution_count": 27,
   "id": "6c313718",
   "metadata": {},
   "outputs": [
    {
     "name": "stdout",
     "output_type": "stream",
     "text": [
      "[ 4  5  6  7  9 10 11]\n"
     ]
    }
   ],
   "source": [
    "arr2 = np.append(arr, [9,10,11])\n",
    "print(arr2)"
   ]
  },
  {
   "cell_type": "code",
   "execution_count": 28,
   "id": "17391704",
   "metadata": {},
   "outputs": [
    {
     "name": "stdout",
     "output_type": "stream",
     "text": [
      "[ 4  5  6  7  9 10 11]\n",
      "\n",
      "\n",
      "[ 4  6  7 10 11]\n"
     ]
    }
   ],
   "source": [
    "arr2 = np.array([4,5,6,7,9,10,11])\n",
    "print(arr2)\n",
    "print('\\n')\n",
    "arr5 = np.delete(arr2, [1,4])\n",
    "print(arr5)"
   ]
  },
  {
   "cell_type": "code",
   "execution_count": 29,
   "id": "d66d8ad7",
   "metadata": {},
   "outputs": [],
   "source": [
    "arr1 = np.array([[1,2,3,4], [1,2,3,4]])\n",
    "arr2 = np.array([[5,6,7,8], [5,6,7,8]])"
   ]
  },
  {
   "cell_type": "code",
   "execution_count": 30,
   "id": "29b1fd35",
   "metadata": {},
   "outputs": [
    {
     "name": "stdout",
     "output_type": "stream",
     "text": [
      "[[1 2 3 4]\n",
      " [1 2 3 4]\n",
      " [5 6 7 8]\n",
      " [5 6 7 8]]\n"
     ]
    }
   ],
   "source": [
    "cat = np.concatenate((arr1,arr2), axis=0)\n",
    "print(cat)"
   ]
  },
  {
   "cell_type": "code",
   "execution_count": 31,
   "id": "6193498e",
   "metadata": {},
   "outputs": [
    {
     "name": "stdout",
     "output_type": "stream",
     "text": [
      "[[1 2 3 4 5 6 7 8]\n",
      " [1 2 3 4 5 6 7 8]]\n"
     ]
    }
   ],
   "source": [
    "cat = np.concatenate((arr1, arr2), axis=1)\n",
    "print(cat)"
   ]
  },
  {
   "cell_type": "code",
   "execution_count": null,
   "id": "ea29755c",
   "metadata": {},
   "outputs": [],
   "source": []
  }
 ],
 "metadata": {
  "kernelspec": {
   "display_name": "Python 3 (ipykernel)",
   "language": "python",
   "name": "python3"
  },
  "language_info": {
   "codemirror_mode": {
    "name": "ipython",
    "version": 3
   },
   "file_extension": ".py",
   "mimetype": "text/x-python",
   "name": "python",
   "nbconvert_exporter": "python",
   "pygments_lexer": "ipython3",
   "version": "3.9.7"
  }
 },
 "nbformat": 4,
 "nbformat_minor": 5
}
